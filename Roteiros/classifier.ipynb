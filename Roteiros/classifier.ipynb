{
 "cells": [
  {
   "cell_type": "code",
   "execution_count": 1,
   "metadata": {},
   "outputs": [],
   "source": [
    "from sklearn.svm import SVC\n",
    "from sklearn.neural_network import MLPClassifier\n",
    "from sklearn.model_selection import StratifiedKFold, GridSearchCV\n",
    "from sklearn.metrics import classification_report\n",
    "from functools import reduce\n",
    "import os\n",
    "import pandas as pd\n",
    "import numpy as np\n",
    "import matplotlib.pyplot as plt\n",
    "from sklearn.preprocessing import maxabs_scale, minmax_scale, StandardScaler\n",
    "import warnings\n",
    "warnings.filterwarnings('ignore')"
   ]
  },
  {
   "cell_type": "markdown",
   "metadata": {},
   "source": [
    "# Abrindo datasets"
   ]
  },
  {
   "cell_type": "code",
   "execution_count": 2,
   "metadata": {},
   "outputs": [],
   "source": [
    "files = list(filter(lambda x: x.endswith('pkl'), os.listdir()))\n",
    "#features = ['sobel', 'glcm', 'lbp', 'img']\n",
    "features = ['glcm', 'lbp', 'img']\n",
    "datasets = {}"
   ]
  },
  {
   "cell_type": "code",
   "execution_count": 3,
   "metadata": {},
   "outputs": [],
   "source": [
    "for file in files:\n",
    "    datasets[file.split('.')[0]] = pd.read_pickle(file)\n",
    "\n",
    "for dataset in datasets.keys():\n",
    "    datasets[dataset] = datasets[dataset].sort_values('label')\n",
    "    datasets[dataset]['img'] = [x.reshape(-1) for x in datasets[dataset]['img']]\n",
    "    #datasets[dataset]['glcm'] = [minmax_scale(x, feature_range=(0,1), axis=0) for x in datasets[dataset]['glcm']]\n",
    "    #datasets[dataset]['img'] = [minmax_scale(x, feature_range=(0,1), axis=0) for x in datasets[dataset]['img']]\n",
    "    #datasets[dataset]['lbp'] = [minmax_scale(x, feature_range=(0,1), axis=0) for x in datasets[dataset]['lbp']]"
   ]
  },
  {
   "cell_type": "code",
   "execution_count": 4,
   "metadata": {},
   "outputs": [],
   "source": [
    "selected = ['gaussian', 'equalize_hist', 'gamma_correction2', 'original']"
   ]
  },
  {
   "cell_type": "markdown",
   "metadata": {},
   "source": [
    "### StratifiedKFold para dividir os conjuntos de treino / teste  - https://scikit-learn.org/stable/modules/generated/sklearn.model_selection.StratifiedKFold.html"
   ]
  },
  {
   "cell_type": "code",
   "execution_count": 5,
   "metadata": {},
   "outputs": [],
   "source": [
    "skf = StratifiedKFold(n_splits=2, shuffle=True, random_state=42)"
   ]
  },
  {
   "cell_type": "markdown",
   "metadata": {},
   "source": [
    "## Unindo as features"
   ]
  },
  {
   "cell_type": "code",
   "execution_count": 6,
   "metadata": {},
   "outputs": [],
   "source": [
    "#X, y = np.column_stack([datasets[x][y].tolist() for x in datasets.keys() for y in features]), datasets['gaussian']['class']\n",
    "#X, y = np.array(np.column_stack([np.array(datasets[y]['img'][x]).reshape(-1) for x in range(811)] for y in datasets.keys())), datasets['equalize_hist']['class']\n",
    "#X, y = np.column_stack([np.array(datasets[y]['img']) for y in datasets.keys()]), datasets['equalize_hist']['class']"
   ]
  },
  {
   "cell_type": "code",
   "execution_count": 7,
   "metadata": {},
   "outputs": [],
   "source": [
    "#w = np.column_stack([np.array([datasets[y]['img'][x].tolist() for x in range(811)]) for y in selected])\n",
    "#w = np.column_stack([np.array([datasets[y]['glcm'][x].tolist() for x in range(811)]) for y in selected])\n",
    "#w = np.column_stack([np.array([datasets[y]['lbp'][x].tolist() for x in range(811)]) for y in selected])\n",
    "#w = pd.concat([datasets[y][['img']] for y in selected], axis=1)"
   ]
  },
  {
   "cell_type": "markdown",
   "metadata": {},
   "source": [
    "# apenas lbp"
   ]
  },
  {
   "cell_type": "code",
   "execution_count": 52,
   "metadata": {},
   "outputs": [],
   "source": [
    "w = np.column_stack([np.array([datasets[y]['lbp'][x].tolist() for x in range(811)]) for y in selected])\n",
    "y = datasets['gaussian']['class']"
   ]
  },
  {
   "cell_type": "code",
   "execution_count": 53,
   "metadata": {},
   "outputs": [
    {
     "name": "stdout",
     "output_type": "stream",
     "text": [
      "(811, 68) (811,)\n"
     ]
    }
   ],
   "source": [
    "X = w\n",
    "print(X.shape, y.shape)\n",
    "X = X.astype('float32')"
   ]
  },
  {
   "cell_type": "code",
   "execution_count": 54,
   "metadata": {},
   "outputs": [],
   "source": [
    "scaler = StandardScaler()\n",
    "X = scaler.fit_transform(X)"
   ]
  },
  {
   "cell_type": "markdown",
   "metadata": {},
   "source": [
    "## SVM"
   ]
  },
  {
   "cell_type": "code",
   "execution_count": 11,
   "metadata": {},
   "outputs": [],
   "source": [
    "svm_grid = {\\\n",
    "    'C': [0.1, 1, 10, 100], 'gamma': [1,0.001,'scale'], 'kernel': ['linear', 'rbf', 'poly'] \\\n",
    "}"
   ]
  },
  {
   "cell_type": "code",
   "execution_count": 12,
   "metadata": {},
   "outputs": [],
   "source": [
    "grid_svm = GridSearchCV(SVC(random_state=42), param_grid=svm_grid, verbose=2, n_jobs=8, cv=skf)"
   ]
  },
  {
   "cell_type": "code",
   "execution_count": 13,
   "metadata": {},
   "outputs": [
    {
     "name": "stdout",
     "output_type": "stream",
     "text": [
      "Fitting 2 folds for each of 36 candidates, totalling 72 fits\n"
     ]
    },
    {
     "data": {
      "text/plain": [
       "GridSearchCV(cv=StratifiedKFold(n_splits=2, random_state=42, shuffle=True),\n",
       "             estimator=SVC(random_state=42), n_jobs=8,\n",
       "             param_grid={'C': [0.1, 1, 10, 100], 'gamma': [1, 0.001, 'scale'],\n",
       "                         'kernel': ['linear', 'rbf', 'poly']},\n",
       "             verbose=2)"
      ]
     },
     "execution_count": 13,
     "metadata": {},
     "output_type": "execute_result"
    }
   ],
   "source": [
    "grid_svm.fit(X, y)"
   ]
  },
  {
   "cell_type": "code",
   "execution_count": 14,
   "metadata": {},
   "outputs": [
    {
     "data": {
      "text/plain": [
       "SVC(C=1, random_state=42)"
      ]
     },
     "execution_count": 14,
     "metadata": {},
     "output_type": "execute_result"
    }
   ],
   "source": [
    "grid_svm.best_estimator_"
   ]
  },
  {
   "cell_type": "code",
   "execution_count": 59,
   "metadata": {},
   "outputs": [
    {
     "name": "stdout",
     "output_type": "stream",
     "text": [
      "0\n",
      "              precision    recall  f1-score   support\n",
      "\n",
      "           0       0.78      0.52      0.62       155\n",
      "           1       0.75      0.91      0.82       251\n",
      "\n",
      "    accuracy                           0.76       406\n",
      "   macro avg       0.76      0.71      0.72       406\n",
      "weighted avg       0.76      0.76      0.75       406\n",
      "\n",
      "\n",
      "1\n",
      "              precision    recall  f1-score   support\n",
      "\n",
      "           0       0.73      0.46      0.57       145\n",
      "           1       0.75      0.90      0.82       260\n",
      "\n",
      "    accuracy                           0.75       405\n",
      "   macro avg       0.74      0.68      0.69       405\n",
      "weighted avg       0.74      0.75      0.73       405\n",
      "\n",
      "\n"
     ]
    }
   ],
   "source": [
    "for i, (train_index, test_index) in enumerate(skf.split(X, y)):\n",
    "    X_train, X_test = X[train_index], X[test_index]\n",
    "    y_train, y_test = y[train_index], y[test_index]\n",
    "\n",
    "    print(i)\n",
    "    svm = SVC(random_state=42, kernel='rbf', C=1, probability=True)\n",
    "    svm.fit(X_train, y_train)\n",
    "    y_hat = svm.predict(X_test)\n",
    "    print(classification_report(y_test, y_hat))\n",
    "    print() \n",
    "    lbp_ans = svm.predict_proba(X_test)\n",
    "\n",
    "lbp_svm_ans = lbp_ans\n",
    "#print(classification_report(y_test, lbp_svm_ans))"
   ]
  },
  {
   "cell_type": "markdown",
   "metadata": {},
   "source": [
    "## MLP"
   ]
  },
  {
   "cell_type": "code",
   "execution_count": 16,
   "metadata": {},
   "outputs": [],
   "source": [
    "mlp_grid = {\\\n",
    "    'hidden_layer_sizes': [64, 128], 'learning_rate_init': [0.001, 0.0005], 'alpha': [0.0001, 0.001, 0.01], \\\n",
    "    'activation': ['identity', 'tanh', 'relu'], 'solver': ['adam', 'sgd'], 'learning_rate': ['constant', 'adaptative']\\\n",
    "}"
   ]
  },
  {
   "cell_type": "code",
   "execution_count": 13,
   "metadata": {},
   "outputs": [
    {
     "ename": "NameError",
     "evalue": "name 'mlp_grid' is not defined",
     "output_type": "error",
     "traceback": [
      "\u001b[1;31m---------------------------------------------------------------------------\u001b[0m",
      "\u001b[1;31mNameError\u001b[0m                                 Traceback (most recent call last)",
      "\u001b[1;32m<ipython-input-13-d639993a4c25>\u001b[0m in \u001b[0;36m<module>\u001b[1;34m\u001b[0m\n\u001b[1;32m----> 1\u001b[1;33m \u001b[0mgrid_mlp\u001b[0m \u001b[1;33m=\u001b[0m \u001b[0mGridSearchCV\u001b[0m\u001b[1;33m(\u001b[0m\u001b[0mMLPClassifier\u001b[0m\u001b[1;33m(\u001b[0m\u001b[0mrandom_state\u001b[0m\u001b[1;33m=\u001b[0m\u001b[1;36m42\u001b[0m\u001b[1;33m,\u001b[0m \u001b[0mwarm_start\u001b[0m\u001b[1;33m=\u001b[0m\u001b[1;32mTrue\u001b[0m\u001b[1;33m,\u001b[0m \u001b[0mearly_stopping\u001b[0m\u001b[1;33m=\u001b[0m\u001b[1;32mTrue\u001b[0m\u001b[1;33m,\u001b[0m \u001b[0mn_iter_no_change\u001b[0m\u001b[1;33m=\u001b[0m\u001b[1;36m80\u001b[0m\u001b[1;33m,\u001b[0m \u001b[0mmax_iter\u001b[0m\u001b[1;33m=\u001b[0m\u001b[1;36m500\u001b[0m\u001b[1;33m)\u001b[0m\u001b[1;33m,\u001b[0m \u001b[0mparam_grid\u001b[0m\u001b[1;33m=\u001b[0m\u001b[0mmlp_grid\u001b[0m\u001b[1;33m,\u001b[0m \u001b[0mverbose\u001b[0m\u001b[1;33m=\u001b[0m\u001b[1;36m2\u001b[0m\u001b[1;33m,\u001b[0m \u001b[0mn_jobs\u001b[0m\u001b[1;33m=\u001b[0m\u001b[1;36m8\u001b[0m\u001b[1;33m,\u001b[0m \u001b[0mcv\u001b[0m\u001b[1;33m=\u001b[0m\u001b[0mskf\u001b[0m\u001b[1;33m)\u001b[0m\u001b[1;33m\u001b[0m\u001b[1;33m\u001b[0m\u001b[0m\n\u001b[0m",
      "\u001b[1;31mNameError\u001b[0m: name 'mlp_grid' is not defined"
     ]
    }
   ],
   "source": [
    "grid_mlp = GridSearchCV(MLPClassifier(random_state=42, warm_start=True, early_stopping=True, n_iter_no_change=80, max_iter=500), param_grid=mlp_grid, verbose=2, n_jobs=8, cv=skf)"
   ]
  },
  {
   "cell_type": "code",
   "execution_count": 18,
   "metadata": {},
   "outputs": [
    {
     "name": "stdout",
     "output_type": "stream",
     "text": [
      "Fitting 2 folds for each of 144 candidates, totalling 288 fits\n"
     ]
    },
    {
     "data": {
      "text/plain": [
       "GridSearchCV(cv=StratifiedKFold(n_splits=2, random_state=42, shuffle=True),\n",
       "             estimator=MLPClassifier(early_stopping=True, max_iter=500,\n",
       "                                     n_iter_no_change=80, random_state=42,\n",
       "                                     warm_start=True),\n",
       "             n_jobs=8,\n",
       "             param_grid={'activation': ['identity', 'tanh', 'relu'],\n",
       "                         'alpha': [0.0001, 0.001, 0.01],\n",
       "                         'hidden_layer_sizes': [64, 128],\n",
       "                         'learning_rate': ['constant', 'adaptative'],\n",
       "                         'learning_rate_init': [0.001, 0.0005],\n",
       "                         'solver': ['adam', 'sgd']},\n",
       "             verbose=2)"
      ]
     },
     "execution_count": 18,
     "metadata": {},
     "output_type": "execute_result"
    }
   ],
   "source": [
    "grid_mlp.fit(X, y)"
   ]
  },
  {
   "cell_type": "code",
   "execution_count": 19,
   "metadata": {},
   "outputs": [
    {
     "data": {
      "text/plain": [
       "MLPClassifier(early_stopping=True, hidden_layer_sizes=128, max_iter=500,\n",
       "              n_iter_no_change=80, random_state=42, warm_start=True)"
      ]
     },
     "execution_count": 19,
     "metadata": {},
     "output_type": "execute_result"
    }
   ],
   "source": [
    "grid_mlp.best_estimator_"
   ]
  },
  {
   "cell_type": "code",
   "execution_count": 61,
   "metadata": {},
   "outputs": [
    {
     "name": "stdout",
     "output_type": "stream",
     "text": [
      "0\n",
      "              precision    recall  f1-score   support\n",
      "\n",
      "           0       0.69      0.57      0.62       155\n",
      "           1       0.76      0.84      0.80       251\n",
      "\n",
      "    accuracy                           0.74       406\n",
      "   macro avg       0.72      0.70      0.71       406\n",
      "weighted avg       0.73      0.74      0.73       406\n",
      "\n",
      "\n",
      "1\n",
      "              precision    recall  f1-score   support\n",
      "\n",
      "           0       0.48      0.47      0.47       145\n",
      "           1       0.71      0.71      0.71       260\n",
      "\n",
      "    accuracy                           0.62       405\n",
      "   macro avg       0.59      0.59      0.59       405\n",
      "weighted avg       0.62      0.62      0.62       405\n",
      "\n",
      "\n"
     ]
    }
   ],
   "source": [
    "for i, (train_index, test_index) in enumerate(skf.split(X, y)):\n",
    "    X_train, X_test = X[train_index], X[test_index]\n",
    "    y_train, y_test = y[train_index], y[test_index]\n",
    "\n",
    "    print(i)\n",
    "    #mlp = MLPClassifier(random_state=42,hidden_layer_sizes=128,learning_rate_init=0.0005,warm_start=True,early_stopping=True,max_iter=500, activation='relu', n_iter_no_change=80, alpha=0.001)\n",
    "    mlp = MLPClassifier(random_state=42,hidden_layer_sizes=128,warm_start=True,early_stopping=True,max_iter=500, n_iter_no_change=80)\n",
    "\n",
    "    mlp.fit(X_train, y_train)\n",
    "    y_hat = mlp.predict(X_test)\n",
    "    print(classification_report(y_test, y_hat))\n",
    "    print()\n",
    "    lbp_mlp_ans = mlp.predict_proba(X_test)\n",
    "\n",
    "lbp_mlp_ans = lbp_mlp_ans\n",
    "#print(classification_report(y_test, lbp_mlp_ans))"
   ]
  },
  {
   "cell_type": "markdown",
   "metadata": {},
   "source": [
    "# apenas glcm"
   ]
  },
  {
   "cell_type": "code",
   "execution_count": 63,
   "metadata": {},
   "outputs": [],
   "source": [
    "w = np.column_stack([np.array([datasets[y]['glcm'][x].tolist() for x in range(811)]) for y in selected])\n",
    "y = datasets['gaussian']['class']"
   ]
  },
  {
   "cell_type": "code",
   "execution_count": 64,
   "metadata": {},
   "outputs": [
    {
     "name": "stdout",
     "output_type": "stream",
     "text": [
      "(811, 400) (811,)\n"
     ]
    }
   ],
   "source": [
    "X = w\n",
    "print(X.shape, y.shape)\n",
    "X = X.astype('float32')"
   ]
  },
  {
   "cell_type": "code",
   "execution_count": 65,
   "metadata": {},
   "outputs": [],
   "source": [
    "scaler = StandardScaler()\n",
    "X = scaler.fit_transform(X)"
   ]
  },
  {
   "cell_type": "markdown",
   "metadata": {},
   "source": [
    "## SVM"
   ]
  },
  {
   "cell_type": "code",
   "execution_count": 24,
   "metadata": {},
   "outputs": [],
   "source": [
    "svm_grid = {\\\n",
    "    'C': [0.1, 1, 10, 100], 'gamma': [1,0.001,'scale'], 'kernel': ['linear', 'rbf', 'poly'] \\\n",
    "}"
   ]
  },
  {
   "cell_type": "code",
   "execution_count": 25,
   "metadata": {},
   "outputs": [],
   "source": [
    "grid_svm = GridSearchCV(SVC(random_state=42), param_grid=svm_grid, verbose=2, n_jobs=8, cv=skf)"
   ]
  },
  {
   "cell_type": "code",
   "execution_count": 26,
   "metadata": {},
   "outputs": [
    {
     "name": "stdout",
     "output_type": "stream",
     "text": [
      "Fitting 2 folds for each of 36 candidates, totalling 72 fits\n"
     ]
    },
    {
     "data": {
      "text/plain": [
       "GridSearchCV(cv=StratifiedKFold(n_splits=2, random_state=42, shuffle=True),\n",
       "             estimator=SVC(random_state=42), n_jobs=8,\n",
       "             param_grid={'C': [0.1, 1, 10, 100], 'gamma': [1, 0.001, 'scale'],\n",
       "                         'kernel': ['linear', 'rbf', 'poly']},\n",
       "             verbose=2)"
      ]
     },
     "execution_count": 26,
     "metadata": {},
     "output_type": "execute_result"
    }
   ],
   "source": [
    "grid_svm.fit(X, y)"
   ]
  },
  {
   "cell_type": "code",
   "execution_count": 27,
   "metadata": {},
   "outputs": [
    {
     "data": {
      "text/plain": [
       "SVC(C=1, random_state=42)"
      ]
     },
     "execution_count": 27,
     "metadata": {},
     "output_type": "execute_result"
    }
   ],
   "source": [
    "grid_svm.best_estimator_"
   ]
  },
  {
   "cell_type": "code",
   "execution_count": 67,
   "metadata": {},
   "outputs": [
    {
     "name": "stdout",
     "output_type": "stream",
     "text": [
      "0\n",
      "              precision    recall  f1-score   support\n",
      "\n",
      "           0       0.88      0.74      0.80       155\n",
      "           1       0.85      0.94      0.89       251\n",
      "\n",
      "    accuracy                           0.86       406\n",
      "   macro avg       0.87      0.84      0.85       406\n",
      "weighted avg       0.86      0.86      0.86       406\n",
      "\n",
      "\n",
      "1\n",
      "              precision    recall  f1-score   support\n",
      "\n",
      "           0       0.87      0.75      0.81       145\n",
      "           1       0.87      0.94      0.90       260\n",
      "\n",
      "    accuracy                           0.87       405\n",
      "   macro avg       0.87      0.85      0.86       405\n",
      "weighted avg       0.87      0.87      0.87       405\n",
      "\n",
      "\n"
     ]
    }
   ],
   "source": [
    "for i, (train_index, test_index) in enumerate(skf.split(X, y)):\n",
    "    X_train, X_test = X[train_index], X[test_index]\n",
    "    y_train, y_test = y[train_index], y[test_index]\n",
    "\n",
    "    print(i)\n",
    "    svm = SVC(random_state=42, kernel='rbf', C=1, probability=True)\n",
    "    svm.fit(X_train, y_train)\n",
    "    y_hat = svm.predict(X_test)\n",
    "    print(classification_report(y_test, y_hat))\n",
    "    print()\n",
    "    glcm_svm_ans = svm.predict_proba(X_test)\n",
    "\n",
    "glcm_svm_ans = glcm_svm_ans\n",
    "#print(classification_report(y_test, glcm_svm_ans))"
   ]
  },
  {
   "cell_type": "markdown",
   "metadata": {},
   "source": [
    "## MLP"
   ]
  },
  {
   "cell_type": "code",
   "execution_count": 29,
   "metadata": {},
   "outputs": [],
   "source": [
    "mlp_grid = {\\\n",
    "    'hidden_layer_sizes': [64, 128], 'learning_rate_init': [0.001, 0.0005], 'alpha': [0.0001, 0.001, 0.05], \\\n",
    "    'activation': ['identity', 'tanh', 'relu'], 'solver': ['adam', 'sgd'], 'learning_rate': ['constant', 'adaptative']\\\n",
    "}"
   ]
  },
  {
   "cell_type": "code",
   "execution_count": 30,
   "metadata": {},
   "outputs": [],
   "source": [
    "grid_mlp = GridSearchCV(MLPClassifier(random_state=42, warm_start=True, early_stopping=True, n_iter_no_change=80, max_iter=500), param_grid=mlp_grid, verbose=2, n_jobs=8, cv=skf)"
   ]
  },
  {
   "cell_type": "code",
   "execution_count": 31,
   "metadata": {},
   "outputs": [
    {
     "name": "stdout",
     "output_type": "stream",
     "text": [
      "Fitting 2 folds for each of 144 candidates, totalling 288 fits\n"
     ]
    },
    {
     "data": {
      "text/plain": [
       "GridSearchCV(cv=StratifiedKFold(n_splits=2, random_state=42, shuffle=True),\n",
       "             estimator=MLPClassifier(early_stopping=True, max_iter=500,\n",
       "                                     n_iter_no_change=80, random_state=42,\n",
       "                                     warm_start=True),\n",
       "             n_jobs=8,\n",
       "             param_grid={'activation': ['identity', 'tanh', 'relu'],\n",
       "                         'alpha': [0.0001, 0.001, 0.05],\n",
       "                         'hidden_layer_sizes': [64, 128],\n",
       "                         'learning_rate': ['constant', 'adaptative'],\n",
       "                         'learning_rate_init': [0.001, 0.0005],\n",
       "                         'solver': ['adam', 'sgd']},\n",
       "             verbose=2)"
      ]
     },
     "execution_count": 31,
     "metadata": {},
     "output_type": "execute_result"
    }
   ],
   "source": [
    "grid_mlp.fit(X, y)"
   ]
  },
  {
   "cell_type": "code",
   "execution_count": 32,
   "metadata": {},
   "outputs": [
    {
     "data": {
      "text/plain": [
       "MLPClassifier(early_stopping=True, hidden_layer_sizes=128,\n",
       "              learning_rate_init=0.0005, max_iter=500, n_iter_no_change=80,\n",
       "              random_state=42, warm_start=True)"
      ]
     },
     "execution_count": 32,
     "metadata": {},
     "output_type": "execute_result"
    }
   ],
   "source": [
    "grid_mlp.best_estimator_"
   ]
  },
  {
   "cell_type": "code",
   "execution_count": 68,
   "metadata": {},
   "outputs": [
    {
     "name": "stdout",
     "output_type": "stream",
     "text": [
      "0\n",
      "              precision    recall  f1-score   support\n",
      "\n",
      "           0       0.79      0.77      0.78       155\n",
      "           1       0.86      0.88      0.87       251\n",
      "\n",
      "    accuracy                           0.83       406\n",
      "   macro avg       0.83      0.82      0.82       406\n",
      "weighted avg       0.83      0.83      0.83       406\n",
      "\n",
      "\n",
      "1\n",
      "              precision    recall  f1-score   support\n",
      "\n",
      "           0       0.75      0.81      0.78       145\n",
      "           1       0.89      0.85      0.87       260\n",
      "\n",
      "    accuracy                           0.84       405\n",
      "   macro avg       0.82      0.83      0.83       405\n",
      "weighted avg       0.84      0.84      0.84       405\n",
      "\n",
      "\n"
     ]
    }
   ],
   "source": [
    "for i, (train_index, test_index) in enumerate(skf.split(X, y)):\n",
    "    X_train, X_test = X[train_index], X[test_index]\n",
    "    y_train, y_test = y[train_index], y[test_index]\n",
    "\n",
    "    print(i)\n",
    "    mlp = MLPClassifier(random_state=42,hidden_layer_sizes=128,learning_rate_init=0.0005,warm_start=True,early_stopping=True,max_iter=500, n_iter_no_change=80)\n",
    "\n",
    "    mlp.fit(X_train, y_train)\n",
    "    y_hat = mlp.predict(X_test)\n",
    "    print(classification_report(y_test, y_hat))\n",
    "    print()\n",
    "    glcm_mlp_ans = mlp.predict_proba(X_test)\n",
    "\n",
    "glcm_mlp_ans = glcm_mlp_ans\n",
    "#print(classification_report(y_test, glcm_mlp_ans))"
   ]
  },
  {
   "cell_type": "code",
   "execution_count": null,
   "metadata": {},
   "outputs": [],
   "source": []
  },
  {
   "cell_type": "markdown",
   "metadata": {},
   "source": [
    "# apenas img"
   ]
  },
  {
   "cell_type": "code",
   "execution_count": 69,
   "metadata": {},
   "outputs": [],
   "source": [
    "w = np.column_stack([np.array([datasets[y]['img'][x].tolist() for x in range(811)]) for y in selected])\n",
    "y = datasets['gaussian']['class']"
   ]
  },
  {
   "cell_type": "code",
   "execution_count": 70,
   "metadata": {},
   "outputs": [
    {
     "name": "stdout",
     "output_type": "stream",
     "text": [
      "(811, 90000) (811,)\n"
     ]
    }
   ],
   "source": [
    "X = w\n",
    "print(X.shape, y.shape)\n",
    "X = X.astype('float32')"
   ]
  },
  {
   "cell_type": "code",
   "execution_count": 71,
   "metadata": {},
   "outputs": [],
   "source": [
    "scaler = StandardScaler()\n",
    "X = scaler.fit_transform(X)"
   ]
  },
  {
   "cell_type": "markdown",
   "metadata": {},
   "source": [
    "## SVM"
   ]
  },
  {
   "cell_type": "code",
   "execution_count": null,
   "metadata": {},
   "outputs": [],
   "source": [
    "svm_grid = {\\\n",
    "    'C': [0.1, 1, 10, 100], 'gamma': [1,0.01,0.001,'scale'], 'kernel': ['linear', 'rbf', 'poly'] \\\n",
    "}"
   ]
  },
  {
   "cell_type": "code",
   "execution_count": null,
   "metadata": {},
   "outputs": [],
   "source": [
    "grid_svm = GridSearchCV(SVC(random_state=42), param_grid=svm_grid, verbose=2, n_jobs=8, cv=skf)"
   ]
  },
  {
   "cell_type": "code",
   "execution_count": null,
   "metadata": {},
   "outputs": [],
   "source": [
    "grid_svm.fit(X, y)"
   ]
  },
  {
   "cell_type": "code",
   "execution_count": null,
   "metadata": {},
   "outputs": [],
   "source": [
    "grid_svm.best_estimator_"
   ]
  },
  {
   "cell_type": "code",
   "execution_count": 72,
   "metadata": {},
   "outputs": [
    {
     "name": "stdout",
     "output_type": "stream",
     "text": [
      "0\n",
      "              precision    recall  f1-score   support\n",
      "\n",
      "           0       0.84      0.73      0.78       155\n",
      "           1       0.85      0.92      0.88       251\n",
      "\n",
      "    accuracy                           0.84       406\n",
      "   macro avg       0.84      0.82      0.83       406\n",
      "weighted avg       0.84      0.84      0.84       406\n",
      "\n",
      "\n",
      "1\n",
      "              precision    recall  f1-score   support\n",
      "\n",
      "           0       0.81      0.68      0.74       145\n",
      "           1       0.84      0.91      0.87       260\n",
      "\n",
      "    accuracy                           0.83       405\n",
      "   macro avg       0.82      0.80      0.81       405\n",
      "weighted avg       0.83      0.83      0.83       405\n",
      "\n",
      "\n"
     ]
    }
   ],
   "source": [
    "for i, (train_index, test_index) in enumerate(skf.split(X, y)):\n",
    "    X_train, X_test = X[train_index], X[test_index]\n",
    "    y_train, y_test = y[train_index], y[test_index]\n",
    "\n",
    "    print(i)\n",
    "    svm = SVC(random_state=42, kernel='rbf', C=1, probability=True)\n",
    "    svm.fit(X_train, y_train)\n",
    "    y_hat = svm.predict(X_test)\n",
    "    print(classification_report(y_test, y_hat))\n",
    "    print()\n",
    "    img_svm_ans = svm.predict_proba(X_test)\n",
    "\n",
    "img_svm_ans = img_svm_ans\n",
    "#print(classification_report(y_test, img_svm_ans))"
   ]
  },
  {
   "cell_type": "markdown",
   "metadata": {},
   "source": [
    "## MLP"
   ]
  },
  {
   "cell_type": "code",
   "execution_count": null,
   "metadata": {},
   "outputs": [],
   "source": [
    "mlp_grid = {\\\n",
    "    'hidden_layer_sizes': [64, 128], 'learning_rate_init': [0.001, 0.0005], 'alpha': [0.0001, 0.001, 0.05], \\\n",
    "    'activation': ['identity', 'tanh', 'relu'], 'solver': ['adam', 'sgd'], 'learning_rate': ['constant', 'adaptative']\\\n",
    "}"
   ]
  },
  {
   "cell_type": "code",
   "execution_count": null,
   "metadata": {},
   "outputs": [],
   "source": [
    "grid_mlp = GridSearchCV(MLPClassifier(random_state=42, warm_start=True, early_stopping=True, n_iter_no_change=80, max_iter=500), param_grid=mlp_grid, verbose=2, n_jobs=8, cv=skf)"
   ]
  },
  {
   "cell_type": "code",
   "execution_count": null,
   "metadata": {},
   "outputs": [],
   "source": [
    "grid_mlp.fit(X, y)"
   ]
  },
  {
   "cell_type": "code",
   "execution_count": null,
   "metadata": {},
   "outputs": [],
   "source": [
    "grid_mlp.best_estimator_"
   ]
  },
  {
   "cell_type": "code",
   "execution_count": 74,
   "metadata": {},
   "outputs": [
    {
     "name": "stdout",
     "output_type": "stream",
     "text": [
      "0\n",
      "              precision    recall  f1-score   support\n",
      "\n",
      "           0       0.75      0.79      0.77       155\n",
      "           1       0.87      0.84      0.85       251\n",
      "\n",
      "    accuracy                           0.82       406\n",
      "   macro avg       0.81      0.82      0.81       406\n",
      "weighted avg       0.82      0.82      0.82       406\n",
      "\n",
      "\n",
      "1\n",
      "              precision    recall  f1-score   support\n",
      "\n",
      "           0       0.75      0.83      0.79       145\n",
      "           1       0.90      0.85      0.87       260\n",
      "\n",
      "    accuracy                           0.84       405\n",
      "   macro avg       0.83      0.84      0.83       405\n",
      "weighted avg       0.85      0.84      0.84       405\n",
      "\n",
      "\n"
     ]
    }
   ],
   "source": [
    "for i, (train_index, test_index) in enumerate(skf.split(X, y)):\n",
    "    X_train, X_test = X[train_index], X[test_index]\n",
    "    y_train, y_test = y[train_index], y[test_index]\n",
    "\n",
    "    print(i)\n",
    "    mlp = MLPClassifier(random_state=42,hidden_layer_sizes=128,learning_rate_init=0.0005,warm_start=True,early_stopping=True,max_iter=500,n_iter_no_change=80)\n",
    "\n",
    "    mlp.fit(X_train, y_train)\n",
    "    y_hat = mlp.predict(X_test)\n",
    "    print(classification_report(y_test, y_hat))\n",
    "    print()\n",
    "    img_mlp_ans = mlp.predict_proba(X_test)\n",
    "\n",
    "img_mlp_ans = img_mlp_ans\n",
    "#print(classification_report(y_test, img_mlp_ans))"
   ]
  },
  {
   "cell_type": "markdown",
   "metadata": {},
   "source": [
    "# lbp + glcm"
   ]
  },
  {
   "cell_type": "code",
   "execution_count": 76,
   "metadata": {},
   "outputs": [],
   "source": [
    "w1 = np.column_stack([np.array([datasets[y]['glcm'][x].tolist() for x in range(811)]) for y in selected])\n",
    "w2 = np.column_stack([np.array([datasets[y]['lbp'][x].tolist() for x in range(811)]) for y in selected])\n",
    "y = datasets['gaussian']['class']"
   ]
  },
  {
   "cell_type": "code",
   "execution_count": 77,
   "metadata": {},
   "outputs": [],
   "source": [
    "scaler = StandardScaler()\n",
    "w1 = scaler.fit_transform(w1)\n",
    "w2 = scaler.fit_transform(w2)"
   ]
  },
  {
   "cell_type": "code",
   "execution_count": 78,
   "metadata": {},
   "outputs": [],
   "source": [
    "w = np.concatenate([w1,w2],axis=1)"
   ]
  },
  {
   "cell_type": "code",
   "execution_count": 79,
   "metadata": {},
   "outputs": [
    {
     "name": "stdout",
     "output_type": "stream",
     "text": [
      "(811, 468) (811,)\n"
     ]
    }
   ],
   "source": [
    "X = w\n",
    "print(X.shape, y.shape)\n",
    "X = X.astype('float32')"
   ]
  },
  {
   "cell_type": "markdown",
   "metadata": {},
   "source": [
    "## SVM"
   ]
  },
  {
   "cell_type": "code",
   "execution_count": 161,
   "metadata": {},
   "outputs": [],
   "source": [
    "svm_grid = {\\\n",
    "    'C': [0.1, 1, 10, 100], 'gamma': [1,0.001,'scale'], 'kernel': ['linear', 'rbf', 'poly'] \\\n",
    "}"
   ]
  },
  {
   "cell_type": "code",
   "execution_count": 162,
   "metadata": {},
   "outputs": [],
   "source": [
    "grid_svm = GridSearchCV(SVC(random_state=42), param_grid=svm_grid, verbose=2, n_jobs=8, cv=skf)"
   ]
  },
  {
   "cell_type": "code",
   "execution_count": 163,
   "metadata": {},
   "outputs": [
    {
     "name": "stdout",
     "output_type": "stream",
     "text": [
      "Fitting 2 folds for each of 36 candidates, totalling 72 fits\n"
     ]
    },
    {
     "data": {
      "text/plain": [
       "GridSearchCV(cv=StratifiedKFold(n_splits=2, random_state=42, shuffle=True),\n",
       "             estimator=SVC(random_state=42), n_jobs=8,\n",
       "             param_grid={'C': [0.1, 1, 10, 100], 'gamma': [1, 0.001, 'scale'],\n",
       "                         'kernel': ['linear', 'rbf', 'poly']},\n",
       "             verbose=2)"
      ]
     },
     "execution_count": 163,
     "metadata": {},
     "output_type": "execute_result"
    }
   ],
   "source": [
    "grid_svm.fit(X, y)"
   ]
  },
  {
   "cell_type": "code",
   "execution_count": 164,
   "metadata": {},
   "outputs": [
    {
     "data": {
      "text/plain": [
       "SVC(C=1, random_state=42)"
      ]
     },
     "execution_count": 164,
     "metadata": {},
     "output_type": "execute_result"
    }
   ],
   "source": [
    "grid_svm.best_estimator_"
   ]
  },
  {
   "cell_type": "code",
   "execution_count": 80,
   "metadata": {},
   "outputs": [
    {
     "name": "stdout",
     "output_type": "stream",
     "text": [
      "0\n",
      "              precision    recall  f1-score   support\n",
      "\n",
      "           0       0.93      0.80      0.86       155\n",
      "           1       0.89      0.96      0.92       251\n",
      "\n",
      "    accuracy                           0.90       406\n",
      "   macro avg       0.91      0.88      0.89       406\n",
      "weighted avg       0.90      0.90      0.90       406\n",
      "\n",
      "\n",
      "1\n",
      "              precision    recall  f1-score   support\n",
      "\n",
      "           0       0.84      0.78      0.81       145\n",
      "           1       0.88      0.92      0.90       260\n",
      "\n",
      "    accuracy                           0.87       405\n",
      "   macro avg       0.86      0.85      0.86       405\n",
      "weighted avg       0.87      0.87      0.87       405\n",
      "\n",
      "\n"
     ]
    }
   ],
   "source": [
    "for i, (train_index, test_index) in enumerate(skf.split(X, y)):\n",
    "    X_train, X_test = X[train_index], X[test_index]\n",
    "    y_train, y_test = y[train_index], y[test_index]\n",
    "\n",
    "    print(i)\n",
    "    svm = SVC(random_state=42, kernel='rbf', C=10, probability=True)\n",
    "    svm.fit(X_train, y_train)\n",
    "    y_hat = svm.predict(X_test)\n",
    "    print(classification_report(y_test, y_hat))\n",
    "    print()\n",
    "    lbp_glcm_svm_ans = svm.predict_proba(X_test)\n",
    "\n",
    "lbp_glcm_svm_ans = lbp_glcm_svm_ans\n",
    "#print(classification_report(y_test, lbp_glcm_svm_ans))"
   ]
  },
  {
   "cell_type": "markdown",
   "metadata": {},
   "source": [
    "## MLP"
   ]
  },
  {
   "cell_type": "code",
   "execution_count": 166,
   "metadata": {},
   "outputs": [],
   "source": [
    "mlp_grid = {\\\n",
    "    'hidden_layer_sizes': [64, 128], 'learning_rate_init': [0.001, 0.0005], 'alpha': [0.0001, 0.001, 0.01], \\\n",
    "    'activation': ['identity', 'tanh', 'relu'], 'solver': ['adam', 'sgd'], 'learning_rate': ['constant', 'adaptative']\\\n",
    "}"
   ]
  },
  {
   "cell_type": "code",
   "execution_count": 167,
   "metadata": {},
   "outputs": [],
   "source": [
    "grid_mlp = GridSearchCV(MLPClassifier(random_state=42, warm_start=True, early_stopping=True, n_iter_no_change=80, max_iter=500), param_grid=mlp_grid, verbose=2, n_jobs=8, cv=skf)"
   ]
  },
  {
   "cell_type": "code",
   "execution_count": 168,
   "metadata": {},
   "outputs": [
    {
     "name": "stdout",
     "output_type": "stream",
     "text": [
      "Fitting 2 folds for each of 144 candidates, totalling 288 fits\n"
     ]
    },
    {
     "data": {
      "text/plain": [
       "GridSearchCV(cv=StratifiedKFold(n_splits=2, random_state=42, shuffle=True),\n",
       "             estimator=MLPClassifier(early_stopping=True, max_iter=500,\n",
       "                                     n_iter_no_change=80, random_state=42,\n",
       "                                     warm_start=True),\n",
       "             n_jobs=8,\n",
       "             param_grid={'activation': ['identity', 'tanh', 'relu'],\n",
       "                         'alpha': [0.0001, 0.001, 0.01],\n",
       "                         'hidden_layer_sizes': [64, 128],\n",
       "                         'learning_rate': ['constant', 'adaptative'],\n",
       "                         'learning_rate_init': [0.001, 0.0005],\n",
       "                         'solver': ['adam', 'sgd']},\n",
       "             verbose=2)"
      ]
     },
     "execution_count": 168,
     "metadata": {},
     "output_type": "execute_result"
    }
   ],
   "source": [
    "grid_mlp.fit(X, y)"
   ]
  },
  {
   "cell_type": "code",
   "execution_count": 169,
   "metadata": {},
   "outputs": [
    {
     "data": {
      "text/plain": [
       "MLPClassifier(early_stopping=True, hidden_layer_sizes=128,\n",
       "              learning_rate_init=0.0005, max_iter=500, n_iter_no_change=80,\n",
       "              random_state=42, warm_start=True)"
      ]
     },
     "execution_count": 169,
     "metadata": {},
     "output_type": "execute_result"
    }
   ],
   "source": [
    "grid_mlp.best_estimator_"
   ]
  },
  {
   "cell_type": "code",
   "execution_count": null,
   "metadata": {},
   "outputs": [],
   "source": []
  },
  {
   "cell_type": "code",
   "execution_count": 81,
   "metadata": {},
   "outputs": [
    {
     "name": "stdout",
     "output_type": "stream",
     "text": [
      "0\n",
      "              precision    recall  f1-score   support\n",
      "\n",
      "           0       0.64      0.81      0.72       155\n",
      "           1       0.86      0.72      0.78       251\n",
      "\n",
      "    accuracy                           0.75       406\n",
      "   macro avg       0.75      0.77      0.75       406\n",
      "weighted avg       0.78      0.75      0.76       406\n",
      "\n",
      "\n",
      "1\n",
      "              precision    recall  f1-score   support\n",
      "\n",
      "           0       0.76      0.81      0.79       145\n",
      "           1       0.89      0.86      0.87       260\n",
      "\n",
      "    accuracy                           0.84       405\n",
      "   macro avg       0.83      0.84      0.83       405\n",
      "weighted avg       0.85      0.84      0.84       405\n",
      "\n",
      "\n"
     ]
    }
   ],
   "source": [
    "for i, (train_index, test_index) in enumerate(skf.split(X, y)):\n",
    "    X_train, X_test = X[train_index], X[test_index]\n",
    "    y_train, y_test = y[train_index], y[test_index]\n",
    "\n",
    "    print(i)\n",
    "    mlp = MLPClassifier(random_state=42,hidden_layer_sizes=128,warm_start=True,learning_rate_init=0.0005,early_stopping=True,max_iter=500,n_iter_no_change=80)\n",
    "\n",
    "    mlp.fit(X_train, y_train)\n",
    "    y_hat = mlp.predict(X_test)\n",
    "    print(classification_report(y_test, y_hat))\n",
    "    print()\n",
    "    lbp_glcm_mlp_ans = mlp.predict_proba(X_test)\n",
    "\n",
    "lbp_glcm_mlp_ans = lbp_glcm_mlp_ans\n",
    "#print(classification_report(y_test, lbp_glcm_mlp_ans))"
   ]
  },
  {
   "cell_type": "markdown",
   "metadata": {},
   "source": [
    "# lbp + img"
   ]
  },
  {
   "cell_type": "code",
   "execution_count": 83,
   "metadata": {},
   "outputs": [],
   "source": [
    "w1 = np.column_stack([np.array([datasets[y]['lbp'][x].tolist() for x in range(811)]) for y in selected])\n",
    "w2 = np.column_stack([np.array([datasets[y]['img'][x].tolist() for x in range(811)]) for y in selected])\n",
    "y = datasets['gaussian']['class']"
   ]
  },
  {
   "cell_type": "code",
   "execution_count": 84,
   "metadata": {},
   "outputs": [],
   "source": [
    "scaler = StandardScaler()\n",
    "w1 = scaler.fit_transform(w1)\n",
    "w2 = scaler.fit_transform(w2)"
   ]
  },
  {
   "cell_type": "code",
   "execution_count": 85,
   "metadata": {},
   "outputs": [],
   "source": [
    "w = np.concatenate([w1,w2],axis=1)"
   ]
  },
  {
   "cell_type": "code",
   "execution_count": 86,
   "metadata": {},
   "outputs": [
    {
     "name": "stdout",
     "output_type": "stream",
     "text": [
      "(811, 90068) (811,)\n"
     ]
    }
   ],
   "source": [
    "X = w\n",
    "print(X.shape, y.shape)\n",
    "X = X.astype('float32')"
   ]
  },
  {
   "cell_type": "markdown",
   "metadata": {},
   "source": [
    "## SVM"
   ]
  },
  {
   "cell_type": "code",
   "execution_count": null,
   "metadata": {},
   "outputs": [],
   "source": [
    "svm_grid = {\\\n",
    "    'C': [0.1, 1, 10, 100], 'gamma': [1,0.01,0.001,'scale'], 'kernel': ['linear', 'rbf', 'poly'] \\\n",
    "}"
   ]
  },
  {
   "cell_type": "code",
   "execution_count": null,
   "metadata": {},
   "outputs": [],
   "source": [
    "grid_svm = GridSearchCV(SVC(random_state=42), param_grid=svm_grid, verbose=2, n_jobs=8, cv=skf)"
   ]
  },
  {
   "cell_type": "code",
   "execution_count": null,
   "metadata": {},
   "outputs": [],
   "source": [
    "grid_svm.fit(X, y)"
   ]
  },
  {
   "cell_type": "code",
   "execution_count": null,
   "metadata": {},
   "outputs": [],
   "source": [
    "grid_svm.best_estimator_"
   ]
  },
  {
   "cell_type": "code",
   "execution_count": 87,
   "metadata": {},
   "outputs": [
    {
     "name": "stdout",
     "output_type": "stream",
     "text": [
      "0\n",
      "              precision    recall  f1-score   support\n",
      "\n",
      "           0       0.84      0.73      0.78       155\n",
      "           1       0.85      0.92      0.88       251\n",
      "\n",
      "    accuracy                           0.84       406\n",
      "   macro avg       0.84      0.82      0.83       406\n",
      "weighted avg       0.84      0.84      0.84       406\n",
      "\n",
      "\n",
      "1\n",
      "              precision    recall  f1-score   support\n",
      "\n",
      "           0       0.81      0.68      0.74       145\n",
      "           1       0.84      0.91      0.87       260\n",
      "\n",
      "    accuracy                           0.83       405\n",
      "   macro avg       0.82      0.80      0.81       405\n",
      "weighted avg       0.83      0.83      0.83       405\n",
      "\n",
      "\n"
     ]
    }
   ],
   "source": [
    "for i, (train_index, test_index) in enumerate(skf.split(X, y)):\n",
    "    X_train, X_test = X[train_index], X[test_index]\n",
    "    y_train, y_test = y[train_index], y[test_index]\n",
    "\n",
    "    print(i)\n",
    "    svm = SVC(random_state=42, kernel='rbf', C=1, probability=True)\n",
    "    svm.fit(X_train, y_train)\n",
    "    y_hat = svm.predict(X_test)\n",
    "    print(classification_report(y_test, y_hat))\n",
    "    print()\n",
    "    lbp_img_svm_ans = svm.predict_proba(X_test)\n",
    "\n",
    "lbp_img_svm_ans = lbp_img_svm_ans\n",
    "#print(classification_report(y_test, lbp_img_svm_ans))"
   ]
  },
  {
   "cell_type": "markdown",
   "metadata": {},
   "source": [
    "## MLP"
   ]
  },
  {
   "cell_type": "code",
   "execution_count": null,
   "metadata": {},
   "outputs": [],
   "source": [
    "mlp_grid = {\\\n",
    "    'hidden_layer_sizes': [64, 128], 'learning_rate_init': [0.001, 0.0005], 'alpha': [0.0001, 0.001, 0.05], \\\n",
    "    'activation': ['identity', 'tanh', 'relu'], 'solver': ['adam', 'sgd'], 'learning_rate': ['constant', 'adaptative']\\\n",
    "}"
   ]
  },
  {
   "cell_type": "code",
   "execution_count": null,
   "metadata": {},
   "outputs": [],
   "source": [
    "grid_mlp = GridSearchCV(MLPClassifier(random_state=42, warm_start=True, early_stopping=True, n_iter_no_change=80, max_iter=500), param_grid=mlp_grid, verbose=2, n_jobs=8, cv=skf)"
   ]
  },
  {
   "cell_type": "code",
   "execution_count": null,
   "metadata": {},
   "outputs": [],
   "source": [
    "grid_mlp.fit(X, y)"
   ]
  },
  {
   "cell_type": "code",
   "execution_count": null,
   "metadata": {},
   "outputs": [],
   "source": [
    "grid_mlp.best_estimator_"
   ]
  },
  {
   "cell_type": "code",
   "execution_count": 88,
   "metadata": {},
   "outputs": [
    {
     "name": "stdout",
     "output_type": "stream",
     "text": [
      "0\n",
      "              precision    recall  f1-score   support\n",
      "\n",
      "           0       0.73      0.70      0.71       155\n",
      "           1       0.82      0.84      0.83       251\n",
      "\n",
      "    accuracy                           0.79       406\n",
      "   macro avg       0.77      0.77      0.77       406\n",
      "weighted avg       0.78      0.79      0.78       406\n",
      "\n",
      "\n",
      "1\n",
      "              precision    recall  f1-score   support\n",
      "\n",
      "           0       0.74      0.80      0.77       145\n",
      "           1       0.88      0.84      0.86       260\n",
      "\n",
      "    accuracy                           0.83       405\n",
      "   macro avg       0.81      0.82      0.82       405\n",
      "weighted avg       0.83      0.83      0.83       405\n",
      "\n",
      "\n"
     ]
    }
   ],
   "source": [
    "for i, (train_index, test_index) in enumerate(skf.split(X, y)):\n",
    "    X_train, X_test = X[train_index], X[test_index]\n",
    "    y_train, y_test = y[train_index], y[test_index]\n",
    "\n",
    "    print(i)\n",
    "    mlp = MLPClassifier(random_state=42,hidden_layer_sizes=128,warm_start=True,early_stopping=True,max_iter=500,n_iter_no_change=80)\n",
    "\n",
    "    mlp.fit(X_train, y_train)\n",
    "    y_hat = mlp.predict(X_test)\n",
    "    print(classification_report(y_test, y_hat))\n",
    "    print()\n",
    "    lbp_img_mlp_ans = mlp.predict_proba(X_test)\n",
    "\n",
    "lbp_img_mlp_ans = lbp_img_mlp_ans\n",
    "#print(classification_report(y_test, lbp_img_mlp_ans))"
   ]
  },
  {
   "cell_type": "code",
   "execution_count": null,
   "metadata": {},
   "outputs": [],
   "source": []
  },
  {
   "cell_type": "markdown",
   "metadata": {},
   "source": [
    "# glcm + img"
   ]
  },
  {
   "cell_type": "code",
   "execution_count": 89,
   "metadata": {},
   "outputs": [],
   "source": [
    "w1 = np.column_stack([np.array([datasets[y]['glcm'][x].tolist() for x in range(811)]) for y in selected])\n",
    "w2 = np.column_stack([np.array([datasets[y]['img'][x].tolist() for x in range(811)]) for y in selected])\n",
    "y = datasets['gaussian']['class']"
   ]
  },
  {
   "cell_type": "code",
   "execution_count": 90,
   "metadata": {},
   "outputs": [],
   "source": [
    "scaler = StandardScaler()\n",
    "w1 = scaler.fit_transform(w1)\n",
    "w2 = scaler.fit_transform(w2)"
   ]
  },
  {
   "cell_type": "code",
   "execution_count": 91,
   "metadata": {},
   "outputs": [],
   "source": [
    "w = np.concatenate([w1,w2],axis=1)"
   ]
  },
  {
   "cell_type": "code",
   "execution_count": 92,
   "metadata": {},
   "outputs": [
    {
     "name": "stdout",
     "output_type": "stream",
     "text": [
      "(811, 90400) (811,)\n"
     ]
    }
   ],
   "source": [
    "X = w\n",
    "print(X.shape, y.shape)\n",
    "X = X.astype('float32')"
   ]
  },
  {
   "cell_type": "markdown",
   "metadata": {},
   "source": [
    "## SVM"
   ]
  },
  {
   "cell_type": "code",
   "execution_count": null,
   "metadata": {},
   "outputs": [],
   "source": [
    "svm_grid = {\\\n",
    "    'C': [0.1, 1, 10, 100], 'gamma': [1,0.01,0.001,'scale'], 'kernel': ['linear', 'rbf', 'poly'] \\\n",
    "}"
   ]
  },
  {
   "cell_type": "code",
   "execution_count": null,
   "metadata": {},
   "outputs": [],
   "source": [
    "grid_svm = GridSearchCV(SVC(random_state=42), param_grid=svm_grid, verbose=2, n_jobs=8, cv=skf)"
   ]
  },
  {
   "cell_type": "code",
   "execution_count": null,
   "metadata": {},
   "outputs": [],
   "source": [
    "grid_svm.fit(X, y)"
   ]
  },
  {
   "cell_type": "code",
   "execution_count": null,
   "metadata": {},
   "outputs": [],
   "source": [
    "grid_svm.best_estimator_"
   ]
  },
  {
   "cell_type": "code",
   "execution_count": 94,
   "metadata": {},
   "outputs": [
    {
     "name": "stdout",
     "output_type": "stream",
     "text": [
      "0\n",
      "              precision    recall  f1-score   support\n",
      "\n",
      "           0       0.84      0.76      0.80       155\n",
      "           1       0.86      0.91      0.88       251\n",
      "\n",
      "    accuracy                           0.85       406\n",
      "   macro avg       0.85      0.83      0.84       406\n",
      "weighted avg       0.85      0.85      0.85       406\n",
      "\n",
      "\n",
      "1\n",
      "              precision    recall  f1-score   support\n",
      "\n",
      "           0       0.84      0.72      0.78       145\n",
      "           1       0.86      0.92      0.89       260\n",
      "\n",
      "    accuracy                           0.85       405\n",
      "   macro avg       0.85      0.82      0.83       405\n",
      "weighted avg       0.85      0.85      0.85       405\n",
      "\n",
      "\n"
     ]
    }
   ],
   "source": [
    "for i, (train_index, test_index) in enumerate(skf.split(X, y)):\n",
    "    X_train, X_test = X[train_index], X[test_index]\n",
    "    y_train, y_test = y[train_index], y[test_index]\n",
    "\n",
    "    print(i)\n",
    "    svm = SVC(random_state=42, kernel='rbf', C=10, probability=True)\n",
    "    svm.fit(X_train, y_train)\n",
    "    y_hat = svm.predict(X_test)\n",
    "    print(classification_report(y_test, y_hat))\n",
    "    print()\n",
    "    glcm_img_svm_ans = svm.predict_proba(X_test)\n",
    "\n",
    "glcm_img_svm_ans = glcm_img_svm_ans\n",
    "#print(classification_report(y_test, glcm_img_svm_ans))"
   ]
  },
  {
   "cell_type": "markdown",
   "metadata": {},
   "source": [
    "## MLP"
   ]
  },
  {
   "cell_type": "code",
   "execution_count": null,
   "metadata": {},
   "outputs": [],
   "source": [
    "mlp_grid = {\\\n",
    "    'hidden_layer_sizes': [64, 128], 'learning_rate_init': [0.001, 0.0005], 'alpha': [0.0001, 0.001, 0.05], \\\n",
    "    'activation': ['identity', 'tanh', 'relu'], 'solver': ['adam', 'sgd'], 'learning_rate': ['constant', 'adaptative']\\\n",
    "}"
   ]
  },
  {
   "cell_type": "code",
   "execution_count": null,
   "metadata": {},
   "outputs": [],
   "source": [
    "grid_mlp = GridSearchCV(MLPClassifier(random_state=42, warm_start=True, early_stopping=True, n_iter_no_change=80, max_iter=500), param_grid=mlp_grid, verbose=2, n_jobs=8, cv=skf)"
   ]
  },
  {
   "cell_type": "code",
   "execution_count": null,
   "metadata": {},
   "outputs": [],
   "source": [
    "grid_mlp.fit(X, y)"
   ]
  },
  {
   "cell_type": "code",
   "execution_count": null,
   "metadata": {},
   "outputs": [],
   "source": [
    "grid_mlp.best_estimator_"
   ]
  },
  {
   "cell_type": "code",
   "execution_count": 95,
   "metadata": {},
   "outputs": [
    {
     "name": "stdout",
     "output_type": "stream",
     "text": [
      "0\n",
      "              precision    recall  f1-score   support\n",
      "\n",
      "           0       0.64      0.80      0.71       155\n",
      "           1       0.85      0.72      0.78       251\n",
      "\n",
      "    accuracy                           0.75       406\n",
      "   macro avg       0.74      0.76      0.74       406\n",
      "weighted avg       0.77      0.75      0.75       406\n",
      "\n",
      "\n",
      "1\n",
      "              precision    recall  f1-score   support\n",
      "\n",
      "           0       0.72      0.80      0.76       145\n",
      "           1       0.88      0.83      0.86       260\n",
      "\n",
      "    accuracy                           0.82       405\n",
      "   macro avg       0.80      0.82      0.81       405\n",
      "weighted avg       0.83      0.82      0.82       405\n",
      "\n",
      "\n"
     ]
    }
   ],
   "source": [
    "for i, (train_index, test_index) in enumerate(skf.split(X, y)):\n",
    "    X_train, X_test = X[train_index], X[test_index]\n",
    "    y_train, y_test = y[train_index], y[test_index]\n",
    "\n",
    "    print(i)\n",
    "    mlp = MLPClassifier(random_state=42,hidden_layer_sizes=128,learning_rate_init=0.0005,warm_start=True,early_stopping=True,max_iter=500, n_iter_no_change=80)\n",
    "\n",
    "    mlp.fit(X_train, y_train)\n",
    "    y_hat = mlp.predict(X_test)\n",
    "    print(classification_report(y_test, y_hat))\n",
    "    print()\n",
    "    glcm_img_mlp_ans = mlp.predict_proba(X_test)\n",
    "\n",
    "glcm_img_mlp_ans = glcm_img_mlp_ans\n",
    "#print(classification_report(y_test, glcm_img_mlp_ans))"
   ]
  },
  {
   "cell_type": "code",
   "execution_count": null,
   "metadata": {},
   "outputs": [],
   "source": []
  },
  {
   "cell_type": "markdown",
   "metadata": {},
   "source": [
    "# lbp + glcm + img"
   ]
  },
  {
   "cell_type": "code",
   "execution_count": 96,
   "metadata": {},
   "outputs": [],
   "source": [
    "w1 = np.column_stack([np.array([datasets[y]['glcm'][x].tolist() for x in range(811)]) for y in selected])\n",
    "w2 = np.column_stack([np.array([datasets[y]['lbp'][x].tolist() for x in range(811)]) for y in selected])\n",
    "w3 = np.column_stack([np.array([datasets[y]['img'][x].tolist() for x in range(811)]) for y in selected])\n",
    "y = datasets['gaussian']['class']"
   ]
  },
  {
   "cell_type": "code",
   "execution_count": 97,
   "metadata": {},
   "outputs": [],
   "source": [
    "scaler = StandardScaler()\n",
    "w1 = scaler.fit_transform(w1)\n",
    "w2 = scaler.fit_transform(w2)\n",
    "w3 = scaler.fit_transform(w3)"
   ]
  },
  {
   "cell_type": "code",
   "execution_count": 98,
   "metadata": {},
   "outputs": [],
   "source": [
    "w = np.concatenate([w1,w2,w3],axis=1)"
   ]
  },
  {
   "cell_type": "code",
   "execution_count": 99,
   "metadata": {},
   "outputs": [
    {
     "name": "stdout",
     "output_type": "stream",
     "text": [
      "(811, 90468) (811,)\n"
     ]
    }
   ],
   "source": [
    "X = w\n",
    "print(X.shape, y.shape)\n",
    "X = X.astype('float32')"
   ]
  },
  {
   "cell_type": "markdown",
   "metadata": {},
   "source": [
    "## SVM"
   ]
  },
  {
   "cell_type": "code",
   "execution_count": null,
   "metadata": {},
   "outputs": [],
   "source": [
    "svm_grid = {\\\n",
    "    'C': [0.1, 1, 10, 100], 'gamma': [1,0.01,0.001,'scale'], 'kernel': ['linear', 'rbf', 'poly'] \\\n",
    "}"
   ]
  },
  {
   "cell_type": "code",
   "execution_count": null,
   "metadata": {},
   "outputs": [],
   "source": [
    "grid_svm = GridSearchCV(SVC(random_state=42), param_grid=svm_grid, verbose=2, n_jobs=8, cv=skf)"
   ]
  },
  {
   "cell_type": "code",
   "execution_count": null,
   "metadata": {},
   "outputs": [],
   "source": [
    "grid_svm.fit(X, y)"
   ]
  },
  {
   "cell_type": "code",
   "execution_count": null,
   "metadata": {},
   "outputs": [],
   "source": [
    "grid_svm.best_estimator_"
   ]
  },
  {
   "cell_type": "code",
   "execution_count": 101,
   "metadata": {},
   "outputs": [
    {
     "name": "stdout",
     "output_type": "stream",
     "text": [
      "0\n",
      "              precision    recall  f1-score   support\n",
      "\n",
      "           0       0.84      0.76      0.80       155\n",
      "           1       0.86      0.91      0.88       251\n",
      "\n",
      "    accuracy                           0.85       406\n",
      "   macro avg       0.85      0.83      0.84       406\n",
      "weighted avg       0.85      0.85      0.85       406\n",
      "\n",
      "\n",
      "1\n",
      "              precision    recall  f1-score   support\n",
      "\n",
      "           0       0.84      0.72      0.78       145\n",
      "           1       0.86      0.92      0.89       260\n",
      "\n",
      "    accuracy                           0.85       405\n",
      "   macro avg       0.85      0.82      0.83       405\n",
      "weighted avg       0.85      0.85      0.85       405\n",
      "\n",
      "\n"
     ]
    }
   ],
   "source": [
    "for i, (train_index, test_index) in enumerate(skf.split(X, y)):\n",
    "    X_train, X_test = X[train_index], X[test_index]\n",
    "    y_train, y_test = y[train_index], y[test_index]\n",
    "\n",
    "    print(i)\n",
    "    svm = SVC(random_state=42, kernel='rbf', C=10, probability=True)\n",
    "    svm.fit(X_train, y_train)\n",
    "    y_hat = svm.predict(X_test)\n",
    "    print(classification_report(y_test, y_hat))\n",
    "    print()\n",
    "    lbp_glcm_img_svm_ans = svm.predict_proba(X_test)\n",
    "\n",
    "lbp_glcm_img_svm_ans = lbp_glcm_img_svm_ans\n",
    "#print(classification_report(y_test, lbp_glcm_img_svm_ans))"
   ]
  },
  {
   "cell_type": "markdown",
   "metadata": {},
   "source": [
    "## MLP"
   ]
  },
  {
   "cell_type": "code",
   "execution_count": null,
   "metadata": {},
   "outputs": [],
   "source": [
    "mlp_grid = {\\\n",
    "    'hidden_layer_sizes': [64, 128], 'learning_rate_init': [0.001, 0.0005], 'alpha': [0.0001, 0.001, 0.05], \\\n",
    "    'activation': ['identity', 'tanh', 'relu'], 'solver': ['adam', 'sgd'], 'learning_rate': ['constant', 'adaptative']\\\n",
    "}"
   ]
  },
  {
   "cell_type": "code",
   "execution_count": null,
   "metadata": {},
   "outputs": [],
   "source": [
    "grid_mlp = GridSearchCV(MLPClassifier(random_state=42, warm_start=True, early_stopping=True, n_iter_no_change=80, max_iter=500), param_grid=mlp_grid, verbose=2, n_jobs=8, cv=skf)"
   ]
  },
  {
   "cell_type": "code",
   "execution_count": null,
   "metadata": {},
   "outputs": [],
   "source": [
    "grid_mlp.fit(X, y)"
   ]
  },
  {
   "cell_type": "code",
   "execution_count": null,
   "metadata": {},
   "outputs": [],
   "source": [
    "grid_mlp.best_estimator_"
   ]
  },
  {
   "cell_type": "code",
   "execution_count": 102,
   "metadata": {},
   "outputs": [
    {
     "name": "stdout",
     "output_type": "stream",
     "text": [
      "0\n",
      "              precision    recall  f1-score   support\n",
      "\n",
      "           0       0.78      0.77      0.78       155\n",
      "           1       0.86      0.86      0.86       251\n",
      "\n",
      "    accuracy                           0.83       406\n",
      "   macro avg       0.82      0.82      0.82       406\n",
      "weighted avg       0.83      0.83      0.83       406\n",
      "\n",
      "\n",
      "1\n",
      "              precision    recall  f1-score   support\n",
      "\n",
      "           0       0.78      0.83      0.81       145\n",
      "           1       0.90      0.87      0.89       260\n",
      "\n",
      "    accuracy                           0.86       405\n",
      "   macro avg       0.84      0.85      0.85       405\n",
      "weighted avg       0.86      0.86      0.86       405\n",
      "\n",
      "\n"
     ]
    }
   ],
   "source": [
    "for i, (train_index, test_index) in enumerate(skf.split(X, y)):\n",
    "    X_train, X_test = X[train_index], X[test_index]\n",
    "    y_train, y_test = y[train_index], y[test_index]\n",
    "\n",
    "    print(i)\n",
    "    mlp = MLPClassifier(random_state=42,hidden_layer_sizes=128,warm_start=True,early_stopping=True,max_iter=500, n_iter_no_change=80)\n",
    "\n",
    "    mlp.fit(X_train, y_train)\n",
    "    y_hat = mlp.predict(X_test)\n",
    "    print(classification_report(y_test, y_hat))\n",
    "    print()\n",
    "    lbp_glcm_img_mlp_ans = mlp.predict_proba(X_test)\n",
    "\n",
    "lbp_glcm_img_mlp_ans = lbp_glcm_img_mlp_ans\n",
    "#print(classification_report(y_test, lbp_glcm_img_mlp_ans))"
   ]
  },
  {
   "cell_type": "markdown",
   "metadata": {},
   "source": [
    "# ROC, AUC and PR Curves"
   ]
  },
  {
   "cell_type": "markdown",
   "metadata": {},
   "source": [
    "## ROC, AUC and PR - SVM"
   ]
  },
  {
   "cell_type": "code",
   "execution_count": 111,
   "metadata": {},
   "outputs": [],
   "source": [
    "from sklearn.metrics import roc_curve, roc_auc_score, precision_recall_curve, f1_score, auc"
   ]
  },
  {
   "cell_type": "code",
   "execution_count": 112,
   "metadata": {},
   "outputs": [],
   "source": [
    "x_lbp_svm, y_lbp_svm, _ = roc_curve(y_test, lbp_svm_ans[:,1])\n",
    "x_glcm_svm, y_glcm_svm, _ = roc_curve(y_test, glcm_svm_ans[:,1])\n",
    "x_img_svm, y_img_svm, _ = roc_curve(y_test, img_svm_ans[:,1])\n",
    "x_lbp_glcm_svm, y_lbp_glcm_svm, _ = roc_curve(y_test, lbp_glcm_svm_ans[:,1])\n",
    "x_lbp_img_svm, y_lbp_img_svm, _ = roc_curve(y_test, lbp_img_svm_ans[:,1])\n",
    "x_glcm_img_svm, y_glcm_img_svm, _ = roc_curve(y_test, glcm_img_svm_ans[:,1])\n",
    "x_lbp_glcm_img_svm, y_lbp_glcm_img_svm, _ = roc_curve(y_test, lbp_glcm_img_svm_ans[:,1])"
   ]
  },
  {
   "cell_type": "code",
   "execution_count": 124,
   "metadata": {},
   "outputs": [
    {
     "data": {
      "image/png": "[encoded data removed]",
      "text/plain": [
       "<Figure size 640x480 with 1 Axes>"
      ]
     },
     "metadata": {},
     "output_type": "display_data"
    }
   ],
   "source": [
    "plt.plot(x_lbp_svm, y_lbp_svm, marker='.', label=f'LBP AUC={auc(x_lbp_svm,y_lbp_svm):.4f}')\n",
    "plt.plot(x_glcm_svm, y_glcm_svm, marker='.', label=f'GLCM AUC={auc(x_glcm_svm, y_glcm_svm):.4f}')\n",
    "plt.plot(x_img_svm, y_img_svm, marker='.', label=f'IMG AUC={auc(x_img_svm, y_img_svm):.4f}')\n",
    "plt.plot(x_lbp_glcm_svm, y_lbp_glcm_svm, marker='.', label=f'LBP+GLCM AUC={auc(x_lbp_glcm_svm, y_lbp_glcm_svm):.4f}')\n",
    "plt.plot(x_lbp_img_svm, y_lbp_img_svm, marker='.', label=f'LBP+IMG AUC={auc(x_lbp_img_svm, y_lbp_img_svm):.4f}')\n",
    "plt.plot(x_glcm_img_svm, y_glcm_img_svm, marker='.', label=f'GLCM+IMG AUC={auc(x_glcm_img_svm, y_glcm_img_svm):.4f}')\n",
    "plt.plot(x_lbp_glcm_img_svm, y_lbp_glcm_img_svm, marker='.', label=f'LBP+GLCM+IMG AUC={auc(x_lbp_glcm_img_svm, y_lbp_glcm_img_svm):.4f}')\n",
    "plt.xlabel('False Positive Rate')\n",
    "plt.ylabel('True Positive Rate')\n",
    "plt.title('ROC Curve - SVM')\n",
    "plt.legend()\n",
    "plt.show()"
   ]
  },
  {
   "cell_type": "code",
   "execution_count": 140,
   "metadata": {},
   "outputs": [],
   "source": [
    "x_lbp_svm, y_lbp_svm, _ = precision_recall_curve(y_test, lbp_svm_ans[:,1])\n",
    "x_glcm_svm, y_glcm_svm, _ = precision_recall_curve(y_test, glcm_svm_ans[:,1])\n",
    "x_img_svm, y_img_svm, _ = precision_recall_curve(y_test, img_svm_ans[:,1])\n",
    "x_lbp_glcm_svm, y_lbp_glcm_svm, _ = precision_recall_curve(y_test, lbp_glcm_svm_ans[:,1])\n",
    "x_lbp_img_svm, y_lbp_img_svm, _ = precision_recall_curve(y_test, lbp_img_svm_ans[:,1])\n",
    "x_glcm_img_svm, y_glcm_img_svm, _ = precision_recall_curve(y_test, glcm_img_svm_ans[:,1])\n",
    "x_lbp_glcm_img_svm, y_lbp_glcm_img_svm, _ = precision_recall_curve(y_test, lbp_glcm_img_svm_ans[:,1])"
   ]
  },
  {
   "cell_type": "code",
   "execution_count": 145,
   "metadata": {},
   "outputs": [
    {
     "data": {
      "image/png": "[encoded data removed]",
      "text/plain": [
       "<Figure size 640x480 with 1 Axes>"
      ]
     },
     "metadata": {},
     "output_type": "display_data"
    }
   ],
   "source": [
    "plt.plot(y_lbp_svm, x_lbp_svm, marker='.', label=f'LBP AUC={auc(y_lbp_svm, x_lbp_svm):.4f}')\n",
    "plt.plot(y_glcm_svm, x_glcm_svm, marker='.', label=f'GLCM AUC={auc(y_glcm_svm, x_glcm_svm):.4f}')\n",
    "plt.plot(y_img_svm, x_img_svm, marker='.', label=f'IMG AUC={auc(y_img_svm, x_img_svm):.4f}')\n",
    "plt.plot(y_lbp_glcm_svm, x_lbp_glcm_svm, marker='.', label=f'LBP+GLCM AUC={auc(y_lbp_glcm_svm, x_lbp_glcm_svm):.4f}')\n",
    "plt.plot(y_lbp_img_svm, x_lbp_img_svm, marker='.', label=f'LBP+IMG AUC={auc(y_lbp_img_svm, x_lbp_img_svm):.4f}')\n",
    "plt.plot(y_glcm_img_svm, x_glcm_img_svm, marker='.', label=f'GLCM+IMG AUC={auc(y_glcm_img_svm, x_glcm_img_svm):.4f}')\n",
    "plt.plot(y_lbp_glcm_img_svm, x_lbp_glcm_img_svm, marker='.', label=f'LBP+GLCM+IMG AUC={auc(y_lbp_glcm_img_svm, x_lbp_glcm_img_svm):.4f}')\n",
    "plt.xlabel('Recall')\n",
    "plt.ylabel('Precision')\n",
    "plt.title('Precision-Recall Curve - SVM')\n",
    "plt.legend()\n",
    "plt.show()"
   ]
  },
  {
   "cell_type": "markdown",
   "metadata": {},
   "source": [
    "## ROC, AUC and PR - MLP"
   ]
  },
  {
   "cell_type": "code",
   "execution_count": 125,
   "metadata": {},
   "outputs": [],
   "source": [
    "x_lbp_mlp, y_lbp_mlp, _ = roc_curve(y_test, lbp_mlp_ans[:,1])\n",
    "x_glcm_mlp, y_glcm_mlp, _ = roc_curve(y_test, glcm_mlp_ans[:,1])\n",
    "x_img_mlp, y_img_mlp, _ = roc_curve(y_test, img_mlp_ans[:,1])\n",
    "x_lbp_glcm_mlp, y_lbp_glcm_mlp, _ = roc_curve(y_test, lbp_glcm_mlp_ans[:,1])\n",
    "x_lbp_img_mlp, y_lbp_img_mlp, _ = roc_curve(y_test, lbp_img_mlp_ans[:,1])\n",
    "x_glcm_img_mlp, y_glcm_img_mlp, _ = roc_curve(y_test, glcm_img_mlp_ans[:,1])\n",
    "x_lbp_glcm_img_mlp, y_lbp_glcm_img_mlp, _ = roc_curve(y_test, lbp_glcm_img_mlp_ans[:,1])"
   ]
  },
  {
   "cell_type": "code",
   "execution_count": 128,
   "metadata": {},
   "outputs": [
    {
     "data": {
      "image/png": "[encoded data removed]",
      "text/plain": [
       "<Figure size 640x480 with 1 Axes>"
      ]
     },
     "metadata": {},
     "output_type": "display_data"
    }
   ],
   "source": [
    "plt.plot(x_lbp_mlp, y_lbp_mlp, marker='.', label=f'LBP AUC={auc(x_lbp_mlp,y_lbp_mlp):.4f}')\n",
    "plt.plot(x_glcm_mlp, y_glcm_mlp, marker='.', label=f'GLCM AUC={auc(x_glcm_mlp, y_glcm_mlp):.4f}')\n",
    "plt.plot(x_img_mlp, y_img_mlp, marker='.', label=f'IMG AUC={auc(x_img_mlp, y_img_mlp):.4f}')\n",
    "plt.plot(x_lbp_glcm_mlp, y_lbp_glcm_mlp, marker='.', label=f'LBP+GLCM AUC={auc(x_lbp_glcm_mlp, y_lbp_glcm_mlp):.4f}')\n",
    "plt.plot(x_lbp_img_mlp, y_lbp_img_mlp, marker='.', label=f'LBP+IMG AUC={auc(x_lbp_img_mlp, y_lbp_img_mlp):.4f}')\n",
    "plt.plot(x_glcm_img_mlp, y_glcm_img_mlp, marker='.', label=f'GLCM+IMG AUC={auc(x_glcm_img_mlp, y_glcm_img_mlp):.4f}')\n",
    "plt.plot(x_lbp_glcm_img_mlp, y_lbp_glcm_img_mlp, marker='.', label=f'LBP+GLCM+IMG AUC={auc(x_lbp_glcm_img_mlp, y_lbp_glcm_img_mlp):.4f}')\n",
    "plt.xlabel('False Positive Rate')\n",
    "plt.ylabel('True Positive Rate')\n",
    "plt.title('ROC Curve - MLP')\n",
    "plt.legend()\n",
    "plt.show()"
   ]
  },
  {
   "cell_type": "code",
   "execution_count": 142,
   "metadata": {},
   "outputs": [],
   "source": [
    "x_lbp_mlp, y_lbp_mlp, _ = precision_recall_curve(y_test, lbp_mlp_ans[:,1])\n",
    "x_glcm_mlp, y_glcm_mlp, _ = precision_recall_curve(y_test, glcm_mlp_ans[:,1])\n",
    "x_img_mlp, y_img_mlp, _ = precision_recall_curve(y_test, img_mlp_ans[:,1])\n",
    "x_lbp_glcm_mlp, y_lbp_glcm_mlp, _ = precision_recall_curve(y_test, lbp_glcm_mlp_ans[:,1])\n",
    "x_lbp_img_mlp, y_lbp_img_mlp, _ = precision_recall_curve(y_test, lbp_img_mlp_ans[:,1])\n",
    "x_glcm_img_mlp, y_glcm_img_mlp, _ = precision_recall_curve(y_test, glcm_img_mlp_ans[:,1])\n",
    "x_lbp_glcm_img_mlp, y_lbp_glcm_img_mlp, _ = precision_recall_curve(y_test, lbp_glcm_img_mlp_ans[:,1])"
   ]
  },
  {
   "cell_type": "code",
   "execution_count": 146,
   "metadata": {},
   "outputs": [
    {
     "data": {
      "image/png": "[encoded data removed]",
      "text/plain": [
       "<Figure size 640x480 with 1 Axes>"
      ]
     },
     "metadata": {},
     "output_type": "display_data"
    }
   ],
   "source": [
    "plt.plot(y_lbp_mlp, x_lbp_mlp, marker='.', label=f'LBP AUC={auc(y_lbp_mlp, x_lbp_mlp):.4f}')\n",
    "plt.plot(y_glcm_mlp, x_glcm_mlp, marker='.', label=f'GLCM AUC={auc(y_glcm_mlp, x_glcm_mlp):.4f}')\n",
    "plt.plot(y_img_mlp, x_img_mlp, marker='.', label=f'IMG AUC={auc(y_img_mlp, x_img_mlp):.4f}')\n",
    "plt.plot(y_lbp_glcm_mlp, x_lbp_glcm_mlp, marker='.', label=f'LBP+GLCM AUC={auc(y_lbp_glcm_mlp, x_lbp_glcm_mlp):.4f}')\n",
    "plt.plot(y_lbp_img_mlp, x_lbp_img_mlp, marker='.', label=f'LBP+IMG AUC={auc(y_lbp_img_mlp, x_lbp_img_mlp):.4f}')\n",
    "plt.plot(y_glcm_img_mlp, x_glcm_img_mlp, marker='.', label=f'GLCM+IMG AUC={auc(y_glcm_img_mlp, x_glcm_img_mlp):.4f}')\n",
    "plt.plot(y_lbp_glcm_img_mlp, x_lbp_glcm_img_mlp, marker='.', label=f'LBP+GLCM+IMG AUC={auc(y_lbp_glcm_img_mlp, x_lbp_glcm_img_mlp):.4f}')\n",
    "plt.xlabel('Recall')\n",
    "plt.ylabel('Precision')\n",
    "plt.title('Precision-Recall Curve - MLP')\n",
    "plt.legend()\n",
    "plt.show()"
   ]
  },
  {
   "cell_type": "markdown",
   "metadata": {},
   "source": [
    "# lbp + glcm -> improving"
   ]
  },
  {
   "cell_type": "code",
   "execution_count": 148,
   "metadata": {},
   "outputs": [],
   "source": [
    "selected = ['gaussian', 'equalize_hist', 'gamma_correction3', 'original']"
   ]
  },
  {
   "cell_type": "code",
   "execution_count": 149,
   "metadata": {},
   "outputs": [],
   "source": [
    "scaler = StandardScaler()"
   ]
  },
  {
   "cell_type": "code",
   "execution_count": 150,
   "metadata": {},
   "outputs": [],
   "source": [
    "w1 = np.column_stack([np.array([datasets[y]['glcm'][x].tolist() for x in range(811)]) for y in selected])\n",
    "w2 = np.column_stack([np.array([datasets[y]['lbp'][x].tolist() for x in range(811)]) for y in selected])\n",
    "y = datasets['gaussian']['class']"
   ]
  },
  {
   "cell_type": "code",
   "execution_count": 152,
   "metadata": {},
   "outputs": [],
   "source": [
    "w1 = scaler.fit_transform(w1)\n",
    "w2 = scaler.fit_transform(w2)"
   ]
  },
  {
   "cell_type": "code",
   "execution_count": 153,
   "metadata": {},
   "outputs": [],
   "source": [
    "w = np.concatenate([w1,w2],axis=1)"
   ]
  },
  {
   "cell_type": "code",
   "execution_count": 154,
   "metadata": {},
   "outputs": [
    {
     "name": "stdout",
     "output_type": "stream",
     "text": [
      "(811, 800) (811,)\n"
     ]
    }
   ],
   "source": [
    "X = w\n",
    "print(X.shape, y.shape)\n",
    "X = X.astype('float32')"
   ]
  },
  {
   "cell_type": "markdown",
   "metadata": {},
   "source": [
    "## SVM"
   ]
  },
  {
   "cell_type": "code",
   "execution_count": 136,
   "metadata": {},
   "outputs": [],
   "source": [
    "svm_grid = {\\\n",
    "    'C': [0.1, 1, 10, 100], 'gamma': [1,0.001,'scale'], 'kernel': ['linear', 'rbf', 'poly'] \\\n",
    "}"
   ]
  },
  {
   "cell_type": "code",
   "execution_count": 137,
   "metadata": {},
   "outputs": [],
   "source": [
    "grid_svm = GridSearchCV(SVC(random_state=42), param_grid=svm_grid, verbose=2, n_jobs=8, cv=skf)"
   ]
  },
  {
   "cell_type": "code",
   "execution_count": 138,
   "metadata": {},
   "outputs": [
    {
     "name": "stdout",
     "output_type": "stream",
     "text": [
      "Fitting 2 folds for each of 36 candidates, totalling 72 fits\n"
     ]
    },
    {
     "data": {
      "text/plain": [
       "GridSearchCV(cv=StratifiedKFold(n_splits=2, random_state=42, shuffle=True),\n",
       "             estimator=SVC(random_state=42), n_jobs=8,\n",
       "             param_grid={'C': [0.1, 1, 10, 100], 'gamma': [1, 0.001, 'scale'],\n",
       "                         'kernel': ['linear', 'rbf', 'poly']},\n",
       "             verbose=2)"
      ]
     },
     "execution_count": 138,
     "metadata": {},
     "output_type": "execute_result"
    }
   ],
   "source": [
    "grid_svm.fit(X, y)"
   ]
  },
  {
   "cell_type": "code",
   "execution_count": 139,
   "metadata": {},
   "outputs": [
    {
     "data": {
      "text/plain": [
       "SVC(C=1, random_state=42)"
      ]
     },
     "execution_count": 139,
     "metadata": {},
     "output_type": "execute_result"
    }
   ],
   "source": [
    "grid_svm.best_estimator_"
   ]
  },
  {
   "cell_type": "code",
   "execution_count": 155,
   "metadata": {},
   "outputs": [
    {
     "name": "stdout",
     "output_type": "stream",
     "text": [
      "0\n",
      "              precision    recall  f1-score   support\n",
      "\n",
      "           0       0.91      0.81      0.85       155\n",
      "           1       0.89      0.95      0.92       251\n",
      "\n",
      "    accuracy                           0.89       406\n",
      "   macro avg       0.90      0.88      0.89       406\n",
      "weighted avg       0.89      0.89      0.89       406\n",
      "\n",
      "\n",
      "1\n",
      "              precision    recall  f1-score   support\n",
      "\n",
      "           0       0.83      0.73      0.78       145\n",
      "           1       0.86      0.92      0.89       260\n",
      "\n",
      "    accuracy                           0.85       405\n",
      "   macro avg       0.85      0.83      0.83       405\n",
      "weighted avg       0.85      0.85      0.85       405\n",
      "\n",
      "\n"
     ]
    }
   ],
   "source": [
    "for i, (train_index, test_index) in enumerate(skf.split(X, y)):\n",
    "    X_train, X_test = X[train_index], X[test_index]\n",
    "    y_train, y_test = y[train_index], y[test_index]\n",
    "\n",
    "    print(i)\n",
    "    svm = SVC(random_state=42, kernel='rbf', C=10)\n",
    "    svm.fit(X_train, y_train)\n",
    "    y_hat = svm.predict(X_test)\n",
    "    print(classification_report(y_test, y_hat))\n",
    "    print()  "
   ]
  },
  {
   "cell_type": "markdown",
   "metadata": {},
   "source": [
    "## MLP"
   ]
  },
  {
   "cell_type": "code",
   "execution_count": 142,
   "metadata": {},
   "outputs": [],
   "source": [
    "mlp_grid = {\\\n",
    "    'hidden_layer_sizes': [64, 128], 'learning_rate_init': [0.001, 0.0005], 'alpha': [0.0001, 0.001, 0.01], \\\n",
    "    'activation': ['identity', 'tanh', 'relu'], 'solver': ['adam', 'sgd'], 'learning_rate': ['constant', 'adaptative']\\\n",
    "}"
   ]
  },
  {
   "cell_type": "code",
   "execution_count": 143,
   "metadata": {},
   "outputs": [],
   "source": [
    "grid_mlp = GridSearchCV(MLPClassifier(random_state=42, warm_start=True, early_stopping=True, n_iter_no_change=80, max_iter=500), param_grid=mlp_grid, verbose=2, n_jobs=8, cv=skf)"
   ]
  },
  {
   "cell_type": "code",
   "execution_count": 144,
   "metadata": {},
   "outputs": [
    {
     "name": "stdout",
     "output_type": "stream",
     "text": [
      "Fitting 2 folds for each of 144 candidates, totalling 288 fits\n"
     ]
    },
    {
     "data": {
      "text/plain": [
       "GridSearchCV(cv=StratifiedKFold(n_splits=2, random_state=42, shuffle=True),\n",
       "             estimator=MLPClassifier(early_stopping=True, max_iter=500,\n",
       "                                     n_iter_no_change=80, random_state=42,\n",
       "                                     warm_start=True),\n",
       "             n_jobs=8,\n",
       "             param_grid={'activation': ['identity', 'tanh', 'relu'],\n",
       "                         'alpha': [0.0001, 0.001, 0.01],\n",
       "                         'hidden_layer_sizes': [64, 128],\n",
       "                         'learning_rate': ['constant', 'adaptative'],\n",
       "                         'learning_rate_init': [0.001, 0.0005],\n",
       "                         'solver': ['adam', 'sgd']},\n",
       "             verbose=2)"
      ]
     },
     "execution_count": 144,
     "metadata": {},
     "output_type": "execute_result"
    }
   ],
   "source": [
    "grid_mlp.fit(X, y)"
   ]
  },
  {
   "cell_type": "code",
   "execution_count": 145,
   "metadata": {},
   "outputs": [
    {
     "data": {
      "text/plain": [
       "MLPClassifier(early_stopping=True, hidden_layer_sizes=128,\n",
       "              learning_rate_init=0.0005, max_iter=500, n_iter_no_change=80,\n",
       "              random_state=42, warm_start=True)"
      ]
     },
     "execution_count": 145,
     "metadata": {},
     "output_type": "execute_result"
    }
   ],
   "source": [
    "grid_mlp.best_estimator_"
   ]
  },
  {
   "cell_type": "code",
   "execution_count": 156,
   "metadata": {},
   "outputs": [
    {
     "name": "stdout",
     "output_type": "stream",
     "text": [
      "0\n",
      "              precision    recall  f1-score   support\n",
      "\n",
      "           0       0.86      0.83      0.85       155\n",
      "           1       0.90      0.92      0.91       251\n",
      "\n",
      "    accuracy                           0.88       406\n",
      "   macro avg       0.88      0.87      0.88       406\n",
      "weighted avg       0.88      0.88      0.88       406\n",
      "\n",
      "\n",
      "1\n",
      "              precision    recall  f1-score   support\n",
      "\n",
      "           0       0.79      0.80      0.79       145\n",
      "           1       0.89      0.88      0.88       260\n",
      "\n",
      "    accuracy                           0.85       405\n",
      "   macro avg       0.84      0.84      0.84       405\n",
      "weighted avg       0.85      0.85      0.85       405\n",
      "\n",
      "\n"
     ]
    }
   ],
   "source": [
    "for i, (train_index, test_index) in enumerate(skf.split(X, y)):\n",
    "    X_train, X_test = X[train_index], X[test_index]\n",
    "    y_train, y_test = y[train_index], y[test_index]\n",
    "\n",
    "    print(i)\n",
    "    mlp = MLPClassifier(random_state=42,hidden_layer_sizes=128,learning_rate_init=0.0005,warm_start=True,early_stopping=True,max_iter=500,n_iter_no_change=80)\n",
    "\n",
    "    mlp.fit(X_train, y_train)\n",
    "    y_hat = mlp.predict(X_test)\n",
    "    print(classification_report(y_test, y_hat))\n",
    "    print()"
   ]
  },
  {
   "cell_type": "code",
   "execution_count": null,
   "metadata": {},
   "outputs": [],
   "source": []
  }
 ],
 "metadata": {
  "interpreter": {
   "hash": "c67a77925574e256ea3d3ec23d2fa92ea6ae9fcaff584ba484978fc88efa5070"
  },
  "kernelspec": {
   "display_name": "Python 3.8.11 64-bit ('cvision': conda)",
   "name": "python3"
  },
  "language_info": {
   "codemirror_mode": {
    "name": "ipython",
    "version": 3
   },
   "file_extension": ".py",
   "mimetype": "text/x-python",
   "name": "python",
   "nbconvert_exporter": "python",
   "pygments_lexer": "ipython3",
   "version": "3.8.11"
  },
  "orig_nbformat": 4
 },
 "nbformat": 4,
 "nbformat_minor": 2
}
